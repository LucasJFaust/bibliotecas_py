{
  "nbformat": 4,
  "nbformat_minor": 0,
  "metadata": {
    "colab": {
      "provenance": [],
      "authorship_tag": "ABX9TyN/odi5TvlKC5FFYWTo4p7m",
      "include_colab_link": true
    },
    "kernelspec": {
      "name": "python3",
      "display_name": "Python 3"
    },
    "language_info": {
      "name": "python"
    }
  },
  "cells": [
    {
      "cell_type": "markdown",
      "metadata": {
        "id": "view-in-github",
        "colab_type": "text"
      },
      "source": [
        "<a href=\"https://colab.research.google.com/github/LucasJFaust/bibliotecas_py/blob/main/merg_update_apend.ipynb\" target=\"_parent\"><img src=\"https://colab.research.google.com/assets/colab-badge.svg\" alt=\"Open In Colab\"/></a>"
      ]
    },
    {
      "cell_type": "markdown",
      "source": [
        "# Carregar as bases de dados"
      ],
      "metadata": {
        "id": "JxuuvRJqrCgn"
      }
    },
    {
      "cell_type": "code",
      "execution_count": 3,
      "metadata": {
        "id": "RqSUHoTmqoGq"
      },
      "outputs": [],
      "source": [
        "# Carregar as bases de dados novamente\n",
        "df_35k = pd.read_csv('/content/base_13k_tratada.csv')\n",
        "df_13k = pd.read_csv('/content/base_13k_tratada.csv')"
      ]
    },
    {
      "cell_type": "code",
      "source": [
        "# Verificar duplicatas no 'cpf' para ambas as bases de dados\n",
        "duplicatas_35k = df_35k['cpf'].duplicated().sum()\n",
        "duplicatas_13k = df_13k['cpf'].duplicated().sum()\n",
        "\n",
        "print(\"Duplicatas na base de 35k:\", duplicatas_35k)\n",
        "print(\"Duplicatas na base de 13k:\", duplicatas_13k)"
      ],
      "metadata": {
        "colab": {
          "base_uri": "https://localhost:8080/"
        },
        "id": "5xs67rr7uc35",
        "outputId": "233cfdf0-d3de-4576-a80d-4bbddd0b4e5e"
      },
      "execution_count": 4,
      "outputs": [
        {
          "output_type": "stream",
          "name": "stdout",
          "text": [
            "Duplicatas na base de 35k: 836\n",
            "Duplicatas na base de 13k: 836\n"
          ]
        }
      ]
    },
    {
      "cell_type": "code",
      "source": [
        "# Caso existam duplicatas, decidir como lidar com elas (remover, manter a primeira ocorrência, etc.)\n",
        "# Por exemplo, removendo duplicatas e mantendo a primeira ocorrência\n",
        "df_35k = df_35k.drop_duplicates(subset='cpf', keep='first')\n",
        "df_13k = df_13k.drop_duplicates(subset='cpf', keep='first')\n"
      ],
      "metadata": {
        "id": "euYvnJL0uhAK"
      },
      "execution_count": 6,
      "outputs": []
    },
    {
      "cell_type": "code",
      "source": [
        "# Continuar com o processo de atualização e concatenação\n",
        "df_35k.set_index('cpf', inplace=True)\n",
        "df_13k.set_index('cpf', inplace=True)\n",
        "\n",
        "df_atualizada = df_35k.copy()\n",
        "df_atualizada.update(df_13k)\n",
        "\n",
        "cpfs_nao_correspondentes = df_13k.index.difference(df_35k.index)\n",
        "df_atualizada = pd.concat([df_atualizada, df_13k.loc[cpfs_nao_correspondentes]])\n",
        "\n",
        "df_atualizada.reset_index(inplace=True)\n",
        "\n",
        "# Salvar o DataFrame atualizado\n",
        "df_atualizada.to_csv('/content/base_final_atualizada.csv', index=False)"
      ],
      "metadata": {
        "id": "uLUB37JLumIh"
      },
      "execution_count": 7,
      "outputs": []
    },
    {
      "cell_type": "code",
      "source": [
        "from google.colab import files\n",
        "files.download('/content/base_final_atualizada.csv')"
      ],
      "metadata": {
        "colab": {
          "base_uri": "https://localhost:8080/",
          "height": 17
        },
        "id": "zjZyIXewvDho",
        "outputId": "d310709b-46d5-4148-d107-cf0eda3cb9a3"
      },
      "execution_count": 8,
      "outputs": [
        {
          "output_type": "display_data",
          "data": {
            "text/plain": [
              "<IPython.core.display.Javascript object>"
            ],
            "application/javascript": [
              "\n",
              "    async function download(id, filename, size) {\n",
              "      if (!google.colab.kernel.accessAllowed) {\n",
              "        return;\n",
              "      }\n",
              "      const div = document.createElement('div');\n",
              "      const label = document.createElement('label');\n",
              "      label.textContent = `Downloading \"${filename}\": `;\n",
              "      div.appendChild(label);\n",
              "      const progress = document.createElement('progress');\n",
              "      progress.max = size;\n",
              "      div.appendChild(progress);\n",
              "      document.body.appendChild(div);\n",
              "\n",
              "      const buffers = [];\n",
              "      let downloaded = 0;\n",
              "\n",
              "      const channel = await google.colab.kernel.comms.open(id);\n",
              "      // Send a message to notify the kernel that we're ready.\n",
              "      channel.send({})\n",
              "\n",
              "      for await (const message of channel.messages) {\n",
              "        // Send a message to notify the kernel that we're ready.\n",
              "        channel.send({})\n",
              "        if (message.buffers) {\n",
              "          for (const buffer of message.buffers) {\n",
              "            buffers.push(buffer);\n",
              "            downloaded += buffer.byteLength;\n",
              "            progress.value = downloaded;\n",
              "          }\n",
              "        }\n",
              "      }\n",
              "      const blob = new Blob(buffers, {type: 'application/binary'});\n",
              "      const a = document.createElement('a');\n",
              "      a.href = window.URL.createObjectURL(blob);\n",
              "      a.download = filename;\n",
              "      div.appendChild(a);\n",
              "      a.click();\n",
              "      div.remove();\n",
              "    }\n",
              "  "
            ]
          },
          "metadata": {}
        },
        {
          "output_type": "display_data",
          "data": {
            "text/plain": [
              "<IPython.core.display.Javascript object>"
            ],
            "application/javascript": [
              "download(\"download_26b9441f-667f-4476-b8e8-8805f58109b7\", \"base_final_atualizada.csv\", 1081410)"
            ]
          },
          "metadata": {}
        }
      ]
    },
    {
      "cell_type": "code",
      "source": [
        "# Carregar o DataFrame\n",
        "df_final_atualizada = pd.read_csv('/content/base_final_atualizada.csv')\n",
        "\n",
        "# Corrigir os valores multiplicados por 10\n",
        "df_final_atualizada['Único Score Numérico'] = df_final_atualizada['Único Score Numérico'] / 10\n",
        "df_final_atualizada['Serasa Score Numérico'] = df_final_atualizada['Serasa Score Numérico'] / 10\n",
        "\n",
        "# Salvar o DataFrame corrigido\n",
        "df_final_atualizada.to_csv('/content/base_final_atualizada_corrigida.csv', index=False)"
      ],
      "metadata": {
        "id": "nTsDDgbDyLap"
      },
      "execution_count": 10,
      "outputs": []
    },
    {
      "cell_type": "code",
      "source": [
        "from google.colab import files\n",
        "files.download('/content/base_final_atualizada_corrigida.csv')"
      ],
      "metadata": {
        "colab": {
          "base_uri": "https://localhost:8080/",
          "height": 17
        },
        "id": "sH9Q7Z6yyPKq",
        "outputId": "b8b4daf0-1867-4286-c0d7-0ea9d5dcd59a"
      },
      "execution_count": 11,
      "outputs": [
        {
          "output_type": "display_data",
          "data": {
            "text/plain": [
              "<IPython.core.display.Javascript object>"
            ],
            "application/javascript": [
              "\n",
              "    async function download(id, filename, size) {\n",
              "      if (!google.colab.kernel.accessAllowed) {\n",
              "        return;\n",
              "      }\n",
              "      const div = document.createElement('div');\n",
              "      const label = document.createElement('label');\n",
              "      label.textContent = `Downloading \"${filename}\": `;\n",
              "      div.appendChild(label);\n",
              "      const progress = document.createElement('progress');\n",
              "      progress.max = size;\n",
              "      div.appendChild(progress);\n",
              "      document.body.appendChild(div);\n",
              "\n",
              "      const buffers = [];\n",
              "      let downloaded = 0;\n",
              "\n",
              "      const channel = await google.colab.kernel.comms.open(id);\n",
              "      // Send a message to notify the kernel that we're ready.\n",
              "      channel.send({})\n",
              "\n",
              "      for await (const message of channel.messages) {\n",
              "        // Send a message to notify the kernel that we're ready.\n",
              "        channel.send({})\n",
              "        if (message.buffers) {\n",
              "          for (const buffer of message.buffers) {\n",
              "            buffers.push(buffer);\n",
              "            downloaded += buffer.byteLength;\n",
              "            progress.value = downloaded;\n",
              "          }\n",
              "        }\n",
              "      }\n",
              "      const blob = new Blob(buffers, {type: 'application/binary'});\n",
              "      const a = document.createElement('a');\n",
              "      a.href = window.URL.createObjectURL(blob);\n",
              "      a.download = filename;\n",
              "      div.appendChild(a);\n",
              "      a.click();\n",
              "      div.remove();\n",
              "    }\n",
              "  "
            ]
          },
          "metadata": {}
        },
        {
          "output_type": "display_data",
          "data": {
            "text/plain": [
              "<IPython.core.display.Javascript object>"
            ],
            "application/javascript": [
              "download(\"download_0a30ac9a-5398-43c6-a233-5bdb3548d3f8\", \"base_final_atualizada_corrigida.csv\", 1055935)"
            ]
          },
          "metadata": {}
        }
      ]
    },
    {
      "cell_type": "code",
      "source": [
        "# Carregar o DataFrame corrigido\n",
        "df_final_atualizada_corrigida = pd.read_csv('/content/base_final_atualizada_corrigida.csv')\n",
        "\n",
        "# 1. Verificar o Número Total de Registros\n",
        "print(\"Número total de registros:\", df_final_atualizada_corrigida.shape[0])\n",
        "\n",
        "# 2. Verificar a Existência de Valores Nulos\n",
        "print(\"\\nValores nulos em cada coluna:\")\n",
        "print(df_final_atualizada_corrigida.isnull().sum())\n",
        "\n",
        "# 3. Estatísticas Descritivas\n",
        "print(\"\\nEstatísticas descritivas:\")\n",
        "print(df_final_atualizada_corrigida.describe())\n",
        "\n",
        "# 4. Verificar Valores Máximos e Mínimos\n",
        "print(\"\\nValores máximos nas colunas numéricas:\")\n",
        "print(df_final_atualizada_corrigida[['Único Score Numérico', 'Serasa Score Numérico']].max())\n",
        "print(\"\\nValores mínimos nas colunas numéricas:\")\n",
        "print(df_final_atualizada_corrigida[['Único Score Numérico', 'Serasa Score Numérico']].min())\n",
        "\n",
        "# 5. Amostra de Dados\n",
        "print(\"\\nAmostra de dados:\")\n",
        "print(df_final_atualizada_corrigida.sample(5))\n"
      ],
      "metadata": {
        "colab": {
          "base_uri": "https://localhost:8080/"
        },
        "id": "m_D8Uf4b0n-P",
        "outputId": "90c479db-dbe2-47af-ab07-d943225b0635"
      },
      "execution_count": 12,
      "outputs": [
        {
          "output_type": "stream",
          "name": "stdout",
          "text": [
            "Número total de registros: 12775\n",
            "\n",
            "Valores nulos em cada coluna:\n",
            "cpf                      0\n",
            "Único Score Numérico     1\n",
            "Único Score Textual      0\n",
            "Serasa Score Numérico    1\n",
            "Serasa Score Textual     0\n",
            "Data de Registro         0\n",
            "dtype: int64\n",
            "\n",
            "Estatísticas descritivas:\n",
            "                cpf  Único Score Numérico  Serasa Score Numérico\n",
            "count  1.277500e+04          12774.000000           12774.000000\n",
            "mean   2.252435e+10              6.679818              74.635337\n",
            "std    2.386051e+10              2.916375              15.920611\n",
            "min    2.671204e+06            -10.000000               6.000000\n",
            "25%    5.070684e+09              7.000000              78.000000\n",
            "50%    1.129861e+10              8.000000              80.000000\n",
            "75%    3.633608e+10              8.000000              80.000000\n",
            "max    9.996669e+10              9.000000              90.000000\n",
            "\n",
            "Valores máximos nas colunas numéricas:\n",
            "Único Score Numérico      9.0\n",
            "Serasa Score Numérico    90.0\n",
            "dtype: float64\n",
            "\n",
            "Valores mínimos nas colunas numéricas:\n",
            "Único Score Numérico    -10.0\n",
            "Serasa Score Numérico     6.0\n",
            "dtype: float64\n",
            "\n",
            "Amostra de dados:\n",
            "               cpf  Único Score Numérico Único Score Textual  \\\n",
            "5619   41166716813                   9.0  SEM RISCO APARENTE   \n",
            "10691   8472797821                   7.0  SEM RISCO APARENTE   \n",
            "9994   12572084465                   8.0  SEM RISCO APARENTE   \n",
            "11151   2729948120                  -2.0           COM RISCO   \n",
            "5822    5040279213                   8.0  SEM RISCO APARENTE   \n",
            "\n",
            "       Serasa Score Numérico Serasa Score Textual          Data de Registro  \n",
            "5619                    90.0   SEM RISCO APARENTE  2023-12-21T20:45:06.491Z  \n",
            "10691                   78.0   SEM RISCO APARENTE  2023-12-21T20:48:40.887Z  \n",
            "9994                    80.0   SEM RISCO APARENTE  2023-12-21T20:43:45.830Z  \n",
            "11151                   15.0            COM RISCO  2023-12-21T20:45:57.435Z  \n",
            "5822                    80.0   SEM RISCO APARENTE  2023-12-21T20:42:12.131Z  \n"
          ]
        }
      ]
    },
    {
      "cell_type": "code",
      "source": [
        "# Carregar as bases de dados\n",
        "df_35k = pd.read_csv('/content/base_35k_tratada.csv')\n",
        "df_13k = pd.read_csv('/content/base_13k_tratada.csv')\n",
        "\n",
        "# Configurar 'cpf' como chave para a mesclagem\n",
        "df_35k.set_index('cpf', inplace=True)\n",
        "df_13k.set_index('cpf', inplace=True)\n",
        "\n",
        "# Atualizar a base de 35k com as informações da base de 13k\n",
        "df_atualizada = df_35k.combine_first(df_13k)\n",
        "\n",
        "# Adicionar registros exclusivos da base de 13k à base atualizada\n",
        "cpfs_exclusivos_13k = set(df_13k.index) - set(df_35k.index)\n",
        "df_atualizada = df_atualizada.append(df_13k.loc[cpfs_exclusivos_13k])\n",
        "\n",
        "# Resetar o índice para transformar 'cpf' de volta em uma coluna\n",
        "df_atualizada.reset_index(inplace=True)\n",
        "\n",
        "# Dividir valores numéricos por 10\n",
        "df_atualizada['Único Score Numérico'] = df_atualizada['Único Score Numérico'] / 10\n",
        "df_atualizada['Serasa Score Numérico'] = df_atualizada['Serasa Score Numérico'] / 10\n",
        "\n",
        "# Salvar o dataframe atualizado\n",
        "df_atualizada.to_csv('/content/base_final_atualizada_corrigida.csv', index=False)\n"
      ],
      "metadata": {
        "colab": {
          "base_uri": "https://localhost:8080/"
        },
        "id": "tIvC-Rpr2n3a",
        "outputId": "f7aac0bb-0262-4a48-c615-bf5ce9a64a8e"
      },
      "execution_count": 14,
      "outputs": [
        {
          "output_type": "stream",
          "name": "stderr",
          "text": [
            "<ipython-input-14-8bcd7de4139e>:14: FutureWarning: Passing a set as an indexer is deprecated and will raise in a future version. Use a list instead.\n",
            "  df_atualizada = df_atualizada.append(df_13k.loc[cpfs_exclusivos_13k])\n",
            "<ipython-input-14-8bcd7de4139e>:14: FutureWarning: The frame.append method is deprecated and will be removed from pandas in a future version. Use pandas.concat instead.\n",
            "  df_atualizada = df_atualizada.append(df_13k.loc[cpfs_exclusivos_13k])\n"
          ]
        }
      ]
    },
    {
      "cell_type": "code",
      "source": [
        "# Verificações\n",
        "print(\"Número total de registros após a atualização:\", df_atualizada.shape[0])"
      ],
      "metadata": {
        "colab": {
          "base_uri": "https://localhost:8080/"
        },
        "id": "XhEsL3Zl2qDG",
        "outputId": "9c43c727-8f37-49ab-defa-92614c2c9726"
      },
      "execution_count": 15,
      "outputs": [
        {
          "output_type": "stream",
          "name": "stdout",
          "text": [
            "Número total de registros após a atualização: 61771\n"
          ]
        }
      ]
    },
    {
      "cell_type": "code",
      "source": [
        "# Carregar as bases de dados\n",
        "df_35k = pd.read_csv('/content/base_35k_tratada.csv')\n",
        "df_13k = pd.read_csv('/content/base_13k_tratada.csv')\n",
        "\n",
        "# Configurar 'cpf' como chave para a mesclagem\n",
        "df_35k.set_index('cpf', inplace=True)\n",
        "df_13k.set_index('cpf', inplace=True)\n",
        "\n",
        "# Atualizar a base de 35k com as informações da base de 13k\n",
        "df_atualizada = df_35k.combine_first(df_13k)\n",
        "\n",
        "# Identificar registros únicos na base de 13k que não estão na base de 35k\n",
        "cpfs_exclusivos_13k = df_13k.index.difference(df_35k.index)\n",
        "\n",
        "# Adicionar apenas registros exclusivos da base de 13k à base atualizada\n",
        "df_atualizada = pd.concat([df_atualizada, df_13k.loc[cpfs_exclusivos_13k]])\n",
        "\n",
        "# Resetar o índice para transformar 'cpf' de volta em uma coluna\n",
        "df_atualizada.reset_index(inplace=True)\n",
        "\n",
        "# Dividir valores numéricos por 10\n",
        "df_atualizada['Único Score Numérico'] = df_atualizada['Único Score Numérico'] / 10\n",
        "df_atualizada['Serasa Score Numérico'] = df_atualizada['Serasa Score Numérico'] / 10\n",
        "\n",
        "# Salvar o dataframe atualizado\n",
        "df_atualizada.to_csv('/content/base_final_atualizada_corrigida.csv', index=False)\n",
        "\n",
        "# Verificações\n",
        "print(\"Número total de registros após a atualização:\", df_atualizada.shape[0])\n"
      ],
      "metadata": {
        "colab": {
          "base_uri": "https://localhost:8080/"
        },
        "id": "UAXA8ayZ31CT",
        "outputId": "342f06cd-5225-48bf-eff8-5aab992c144b"
      },
      "execution_count": 16,
      "outputs": [
        {
          "output_type": "stream",
          "name": "stdout",
          "text": [
            "Número total de registros após a atualização: 61771\n"
          ]
        }
      ]
    },
    {
      "cell_type": "code",
      "source": [
        "# Carregar as bases de dados\n",
        "df_35k = pd.read_csv('/content/base_35k_tratada.csv')\n",
        "df_13k = pd.read_csv('/content/base_13k_tratada.csv')\n",
        "# Verificar o número de registros em cada base de dados\n",
        "print(\"Número de registros na base de 35k:\", df_35k.shape[0])\n",
        "print(\"Número de registros na base de 13k:\", df_13k.shape[0])"
      ],
      "metadata": {
        "colab": {
          "base_uri": "https://localhost:8080/"
        },
        "id": "-1R4gnGy4dxb",
        "outputId": "5238dba9-3e6c-4755-cffd-ac72bb47af5d"
      },
      "execution_count": 17,
      "outputs": [
        {
          "output_type": "stream",
          "name": "stdout",
          "text": [
            "Número de registros na base de 35k: 35156\n",
            "Número de registros na base de 13k: 13611\n"
          ]
        }
      ]
    },
    {
      "cell_type": "code",
      "source": [
        "# Configurar 'cpf' como chave para a mesclagem\n",
        "df_35k.set_index('cpf', inplace=True)\n",
        "df_13k.set_index('cpf', inplace=True)\n",
        "\n",
        "# Atualizar a base de 35k com as informações da base de 13k\n",
        "df_atualizada = df_35k.combine_first(df_13k)\n",
        "\n",
        "# Identificar registros únicos na base de 13k que não estão na base de 35k\n",
        "cpfs_exclusivos_13k = df_13k.index.difference(df_35k.index)\n",
        "\n",
        "# Adicionar apenas registros exclusivos da base de 13k à base atualizada\n",
        "df_atualizada = pd.concat([df_atualizada, df_13k.loc[cpfs_exclusivos_13k]])\n",
        "\n",
        "# Resetar o índice para transformar 'cpf' de volta em uma coluna\n",
        "df_atualizada.reset_index(inplace=True)\n",
        "\n",
        "# Dividir valores numéricos por 10\n",
        "df_atualizada['Único Score Numérico'] = df_atualizada['Único Score Numérico'] / 10\n",
        "df_atualizada['Serasa Score Numérico'] = df_atualizada['Serasa Score Numérico'] / 10\n",
        "\n",
        "# Verificações após a atualização\n",
        "print(\"Número total de registros após a atualização:\", df_atualizada.shape[0])"
      ],
      "metadata": {
        "colab": {
          "base_uri": "https://localhost:8080/"
        },
        "id": "w8EdYVd14wGm",
        "outputId": "b2c4cdea-62d0-4138-96e0-86ffccf4e07d"
      },
      "execution_count": 18,
      "outputs": [
        {
          "output_type": "stream",
          "name": "stdout",
          "text": [
            "Número total de registros após a atualização: 61771\n"
          ]
        }
      ]
    },
    {
      "cell_type": "code",
      "source": [
        "# Carregar as bases de dados\n",
        "df_35k = pd.read_csv('/content/base_35k_tratada.csv')\n",
        "df_13k = pd.read_csv('/content/base_13k_tratada.csv')\n",
        "\n",
        "# Configurar 'cpf' como chave para a mesclagem\n",
        "df_35k.set_index('cpf', inplace=True)\n",
        "df_13k.set_index('cpf', inplace=True)\n",
        "\n",
        "# Atualizar a base de 35k com as informações da base de 13k\n",
        "df_atualizada = df_35k.combine_first(df_13k)\n",
        "\n",
        "# Correção: Remover possíveis duplicatas que podem ter sido introduzidas\n",
        "df_atualizada = df_atualizada[~df_atualizada.index.duplicated(keep='first')]\n",
        "\n",
        "# Resetar o índice para transformar 'cpf' de volta em uma coluna\n",
        "df_atualizada.reset_index(inplace=True)\n",
        "\n",
        "# Dividir valores numéricos por 10\n",
        "df_atualizada['Único Score Numérico'] = df_atualizada['Único Score Numérico'] / 10\n",
        "df_atualizada['Serasa Score Numérico'] = df_atualizada['Serasa Score Numérico'] / 10\n",
        "\n",
        "# Verificações após a atualização\n",
        "print(\"Número total de registros após a atualização:\", df_atualizada.shape[0])"
      ],
      "metadata": {
        "colab": {
          "base_uri": "https://localhost:8080/"
        },
        "id": "iKvP-FEX5cur",
        "outputId": "f6b969ce-fbef-4b65-c310-732014775593"
      },
      "execution_count": 20,
      "outputs": [
        {
          "output_type": "stream",
          "name": "stdout",
          "text": [
            "Número total de registros após a atualização: 42087\n"
          ]
        }
      ]
    },
    {
      "cell_type": "code",
      "source": [
        "# Certifique-se de que você salvou o DataFrame corrigido em um arquivo CSV\n",
        "df_atualizada.to_csv('/content/base_final_atualizada_corrigida.csv', index=False)\n",
        "\n",
        "# Código para fazer o download do arquivo\n",
        "from google.colab import files\n",
        "files.download('/content/base_final_atualizada_corrigida.csv')"
      ],
      "metadata": {
        "colab": {
          "base_uri": "https://localhost:8080/",
          "height": 17
        },
        "id": "_FBaLI855yN7",
        "outputId": "bedf8298-9751-4c2d-e679-e4c5f349b5ab"
      },
      "execution_count": 21,
      "outputs": [
        {
          "output_type": "display_data",
          "data": {
            "text/plain": [
              "<IPython.core.display.Javascript object>"
            ],
            "application/javascript": [
              "\n",
              "    async function download(id, filename, size) {\n",
              "      if (!google.colab.kernel.accessAllowed) {\n",
              "        return;\n",
              "      }\n",
              "      const div = document.createElement('div');\n",
              "      const label = document.createElement('label');\n",
              "      label.textContent = `Downloading \"${filename}\": `;\n",
              "      div.appendChild(label);\n",
              "      const progress = document.createElement('progress');\n",
              "      progress.max = size;\n",
              "      div.appendChild(progress);\n",
              "      document.body.appendChild(div);\n",
              "\n",
              "      const buffers = [];\n",
              "      let downloaded = 0;\n",
              "\n",
              "      const channel = await google.colab.kernel.comms.open(id);\n",
              "      // Send a message to notify the kernel that we're ready.\n",
              "      channel.send({})\n",
              "\n",
              "      for await (const message of channel.messages) {\n",
              "        // Send a message to notify the kernel that we're ready.\n",
              "        channel.send({})\n",
              "        if (message.buffers) {\n",
              "          for (const buffer of message.buffers) {\n",
              "            buffers.push(buffer);\n",
              "            downloaded += buffer.byteLength;\n",
              "            progress.value = downloaded;\n",
              "          }\n",
              "        }\n",
              "      }\n",
              "      const blob = new Blob(buffers, {type: 'application/binary'});\n",
              "      const a = document.createElement('a');\n",
              "      a.href = window.URL.createObjectURL(blob);\n",
              "      a.download = filename;\n",
              "      div.appendChild(a);\n",
              "      a.click();\n",
              "      div.remove();\n",
              "    }\n",
              "  "
            ]
          },
          "metadata": {}
        },
        {
          "output_type": "display_data",
          "data": {
            "text/plain": [
              "<IPython.core.display.Javascript object>"
            ],
            "application/javascript": [
              "download(\"download_a8b1b22a-57f1-478b-ad40-fd27aafc0a6d\", \"base_final_atualizada_corrigida.csv\", 3517073)"
            ]
          },
          "metadata": {}
        }
      ]
    },
    {
      "cell_type": "code",
      "source": [
        "# Carregar as bases de dados\n",
        "df_35k = pd.read_csv('/content/base_35k_tratada.csv')\n",
        "df_13k = pd.read_csv('/content/base_13k_tratada.csv')\n",
        "\n",
        "# Configurar 'cpf' como chave para a mesclagem\n",
        "df_35k.set_index('cpf', inplace=True)\n",
        "df_13k.set_index('cpf', inplace=True)\n",
        "\n",
        "# Atualizar a base de 35k com as informações da base de 13k\n",
        "df_atualizada = df_35k.combine_first(df_13k)\n",
        "\n",
        "# Correção: Remover possíveis duplicatas que podem ter sido introduzidas\n",
        "df_atualizada = df_atualizada[~df_atualizada.index.duplicated(keep='first')]\n",
        "\n",
        "# Resetar o índice para transformar 'cpf' de volta em uma coluna\n",
        "df_atualizada.reset_index(inplace=True)\n",
        "\n",
        "# Verificações após a atualização\n",
        "print(\"Número total de registros após a atualização:\", df_atualizada.shape[0])"
      ],
      "metadata": {
        "colab": {
          "base_uri": "https://localhost:8080/"
        },
        "id": "3ZgNWjE269Ok",
        "outputId": "1d894137-fc33-41d3-b543-77e874367049"
      },
      "execution_count": 22,
      "outputs": [
        {
          "output_type": "stream",
          "name": "stdout",
          "text": [
            "Número total de registros após a atualização: 42087\n"
          ]
        }
      ]
    },
    {
      "cell_type": "code",
      "source": [
        "# Certifique-se de que você salvou o DataFrame corrigido em um arquivo CSV\n",
        "df_atualizada.to_csv('/content/base_final_atualizada_corrigida2.csv', index=False)\n",
        "\n",
        "# Código para fazer o download do arquivo\n",
        "from google.colab import files\n",
        "files.download('/content/base_final_atualizada_corrigida2.csv')"
      ],
      "metadata": {
        "colab": {
          "base_uri": "https://localhost:8080/",
          "height": 17
        },
        "id": "d-rJPYIZ7A5h",
        "outputId": "675acbf9-8fdb-4425-bb3c-28e50e6ff722"
      },
      "execution_count": 23,
      "outputs": [
        {
          "output_type": "display_data",
          "data": {
            "text/plain": [
              "<IPython.core.display.Javascript object>"
            ],
            "application/javascript": [
              "\n",
              "    async function download(id, filename, size) {\n",
              "      if (!google.colab.kernel.accessAllowed) {\n",
              "        return;\n",
              "      }\n",
              "      const div = document.createElement('div');\n",
              "      const label = document.createElement('label');\n",
              "      label.textContent = `Downloading \"${filename}\": `;\n",
              "      div.appendChild(label);\n",
              "      const progress = document.createElement('progress');\n",
              "      progress.max = size;\n",
              "      div.appendChild(progress);\n",
              "      document.body.appendChild(div);\n",
              "\n",
              "      const buffers = [];\n",
              "      let downloaded = 0;\n",
              "\n",
              "      const channel = await google.colab.kernel.comms.open(id);\n",
              "      // Send a message to notify the kernel that we're ready.\n",
              "      channel.send({})\n",
              "\n",
              "      for await (const message of channel.messages) {\n",
              "        // Send a message to notify the kernel that we're ready.\n",
              "        channel.send({})\n",
              "        if (message.buffers) {\n",
              "          for (const buffer of message.buffers) {\n",
              "            buffers.push(buffer);\n",
              "            downloaded += buffer.byteLength;\n",
              "            progress.value = downloaded;\n",
              "          }\n",
              "        }\n",
              "      }\n",
              "      const blob = new Blob(buffers, {type: 'application/binary'});\n",
              "      const a = document.createElement('a');\n",
              "      a.href = window.URL.createObjectURL(blob);\n",
              "      a.download = filename;\n",
              "      div.appendChild(a);\n",
              "      a.click();\n",
              "      div.remove();\n",
              "    }\n",
              "  "
            ]
          },
          "metadata": {}
        },
        {
          "output_type": "display_data",
          "data": {
            "text/plain": [
              "<IPython.core.display.Javascript object>"
            ],
            "application/javascript": [
              "download(\"download_118ecb93-1289-496b-974e-d4eabad0ce4c\", \"base_final_atualizada_corrigida2.csv\", 3601173)"
            ]
          },
          "metadata": {}
        }
      ]
    }
  ]
}