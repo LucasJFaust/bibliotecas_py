{
  "nbformat": 4,
  "nbformat_minor": 0,
  "metadata": {
    "colab": {
      "provenance": [],
      "authorship_tag": "ABX9TyMTO8V7k3sfEtCWPqphDZYs",
      "include_colab_link": true
    },
    "kernelspec": {
      "name": "python3",
      "display_name": "Python 3"
    },
    "language_info": {
      "name": "python"
    }
  },
  "cells": [
    {
      "cell_type": "markdown",
      "metadata": {
        "id": "view-in-github",
        "colab_type": "text"
      },
      "source": [
        "<a href=\"https://colab.research.google.com/github/LucasJFaust/bibliotecas_py/blob/main/Modeling_Pratico.ipynb\" target=\"_parent\"><img src=\"https://colab.research.google.com/assets/colab-badge.svg\" alt=\"Open In Colab\"/></a>"
      ]
    },
    {
      "cell_type": "code",
      "source": [
        "import pandas as pd\n",
        "import numpy as np\n",
        "\n",
        "data_url = \"http://lib.stat.cmu.edu/datasets/boston\"\n",
        "raw_df = pd.read_csv(data_url, sep=\"\\s+\", skiprows=22, header=None)\n",
        "\n",
        "# Aqui, você deve separar as instruções em diferentes linhas\n",
        "data = np.hstack([raw_df.values[::2, :], raw_df.values[1::2, :2]])\n",
        "target = raw_df.values[1::2, 2]\n",
        "\n",
        "# Criar o dicionário housing\n",
        "housing = {\n",
        "    'data': data,\n",
        "    'target': target,\n",
        "    'feature_names': [\n",
        "        'CRIM', 'ZN', 'INDUS', 'CHAS', 'NOX', 'RM', 'AGE', 'DIS', 'RAD', 'TAX', 'PTRATIO', 'B', 'LSTAT', 'MEDV'\n",
        "    ]\n",
        "}"
      ],
      "metadata": {
        "id": "uTthwU1uyFkj"
      },
      "execution_count": 4,
      "outputs": []
    },
    {
      "cell_type": "code",
      "source": [
        "import pandas as pd\n",
        "import numpy as np\n",
        "\n",
        "df = pd.read_csv(\n",
        "    filepath_or_buffer=\"http://lib.stat.cmu.edu/datasets/boston\",\n",
        "    delim_whitespace=True,\n",
        "    skiprows=21,\n",
        "    header=None,\n",
        ")\n",
        "\n",
        "columns = [\n",
        "    'CRIM',\n",
        "    'ZN',\n",
        "    'INDUS',\n",
        "    'CHAS',\n",
        "    'NOX',\n",
        "    'RM',\n",
        "    'AGE',\n",
        "    'DIS',\n",
        "    'RAD',\n",
        "    'TAX',\n",
        "    'PTRATIO',\n",
        "    'B',\n",
        "    'LSTAT',\n",
        "    'MEDV',\n",
        "]\n",
        "\n",
        "\n",
        "values_w_nulls = df.values.flatten()\n",
        "all_values = values_w_nulls[~np.isnan(values_w_nulls)]\n",
        "\n",
        "\n",
        "df = pd.DataFrame(\n",
        "    data = all_values.reshape(-1, len(columns)),\n",
        "    columns = columns,\n",
        ")\n"
      ],
      "metadata": {
        "id": "gjSngI0BSKlG"
      },
      "execution_count": 5,
      "outputs": []
    },
    {
      "cell_type": "code",
      "source": [
        "from sklearn.model_selection import train_test_split, GridSearchCV\n",
        "from sklearn.linear_model import LinearRegression\n",
        "from sklearn.metrics import mean_squared_error\n",
        "from sklearn.svm import SVR\n",
        "from xgboost import XGBRegressor"
      ],
      "metadata": {
        "id": "HeQ52KGTuQRA"
      },
      "execution_count": 42,
      "outputs": []
    },
    {
      "cell_type": "code",
      "source": [
        "print(housing)"
      ],
      "metadata": {
        "colab": {
          "base_uri": "https://localhost:8080/"
        },
        "id": "bxbqXy_z15cK",
        "outputId": "cdbfcb43-be8f-4f82-d447-18e04deeb69b"
      },
      "execution_count": 7,
      "outputs": [
        {
          "output_type": "stream",
          "name": "stdout",
          "text": [
            "{'data': array([[6.3200e-03, 1.8000e+01, 2.3100e+00, ..., 1.5300e+01, 3.9690e+02,\n",
            "        4.9800e+00],\n",
            "       [2.7310e-02, 0.0000e+00, 7.0700e+00, ..., 1.7800e+01, 3.9690e+02,\n",
            "        9.1400e+00],\n",
            "       [2.7290e-02, 0.0000e+00, 7.0700e+00, ..., 1.7800e+01, 3.9283e+02,\n",
            "        4.0300e+00],\n",
            "       ...,\n",
            "       [6.0760e-02, 0.0000e+00, 1.1930e+01, ..., 2.1000e+01, 3.9690e+02,\n",
            "        5.6400e+00],\n",
            "       [1.0959e-01, 0.0000e+00, 1.1930e+01, ..., 2.1000e+01, 3.9345e+02,\n",
            "        6.4800e+00],\n",
            "       [4.7410e-02, 0.0000e+00, 1.1930e+01, ..., 2.1000e+01, 3.9690e+02,\n",
            "        7.8800e+00]]), 'target': array([24. , 21.6, 34.7, 33.4, 36.2, 28.7, 22.9, 27.1, 16.5, 18.9, 15. ,\n",
            "       18.9, 21.7, 20.4, 18.2, 19.9, 23.1, 17.5, 20.2, 18.2, 13.6, 19.6,\n",
            "       15.2, 14.5, 15.6, 13.9, 16.6, 14.8, 18.4, 21. , 12.7, 14.5, 13.2,\n",
            "       13.1, 13.5, 18.9, 20. , 21. , 24.7, 30.8, 34.9, 26.6, 25.3, 24.7,\n",
            "       21.2, 19.3, 20. , 16.6, 14.4, 19.4, 19.7, 20.5, 25. , 23.4, 18.9,\n",
            "       35.4, 24.7, 31.6, 23.3, 19.6, 18.7, 16. , 22.2, 25. , 33. , 23.5,\n",
            "       19.4, 22. , 17.4, 20.9, 24.2, 21.7, 22.8, 23.4, 24.1, 21.4, 20. ,\n",
            "       20.8, 21.2, 20.3, 28. , 23.9, 24.8, 22.9, 23.9, 26.6, 22.5, 22.2,\n",
            "       23.6, 28.7, 22.6, 22. , 22.9, 25. , 20.6, 28.4, 21.4, 38.7, 43.8,\n",
            "       33.2, 27.5, 26.5, 18.6, 19.3, 20.1, 19.5, 19.5, 20.4, 19.8, 19.4,\n",
            "       21.7, 22.8, 18.8, 18.7, 18.5, 18.3, 21.2, 19.2, 20.4, 19.3, 22. ,\n",
            "       20.3, 20.5, 17.3, 18.8, 21.4, 15.7, 16.2, 18. , 14.3, 19.2, 19.6,\n",
            "       23. , 18.4, 15.6, 18.1, 17.4, 17.1, 13.3, 17.8, 14. , 14.4, 13.4,\n",
            "       15.6, 11.8, 13.8, 15.6, 14.6, 17.8, 15.4, 21.5, 19.6, 15.3, 19.4,\n",
            "       17. , 15.6, 13.1, 41.3, 24.3, 23.3, 27. , 50. , 50. , 50. , 22.7,\n",
            "       25. , 50. , 23.8, 23.8, 22.3, 17.4, 19.1, 23.1, 23.6, 22.6, 29.4,\n",
            "       23.2, 24.6, 29.9, 37.2, 39.8, 36.2, 37.9, 32.5, 26.4, 29.6, 50. ,\n",
            "       32. , 29.8, 34.9, 37. , 30.5, 36.4, 31.1, 29.1, 50. , 33.3, 30.3,\n",
            "       34.6, 34.9, 32.9, 24.1, 42.3, 48.5, 50. , 22.6, 24.4, 22.5, 24.4,\n",
            "       20. , 21.7, 19.3, 22.4, 28.1, 23.7, 25. , 23.3, 28.7, 21.5, 23. ,\n",
            "       26.7, 21.7, 27.5, 30.1, 44.8, 50. , 37.6, 31.6, 46.7, 31.5, 24.3,\n",
            "       31.7, 41.7, 48.3, 29. , 24. , 25.1, 31.5, 23.7, 23.3, 22. , 20.1,\n",
            "       22.2, 23.7, 17.6, 18.5, 24.3, 20.5, 24.5, 26.2, 24.4, 24.8, 29.6,\n",
            "       42.8, 21.9, 20.9, 44. , 50. , 36. , 30.1, 33.8, 43.1, 48.8, 31. ,\n",
            "       36.5, 22.8, 30.7, 50. , 43.5, 20.7, 21.1, 25.2, 24.4, 35.2, 32.4,\n",
            "       32. , 33.2, 33.1, 29.1, 35.1, 45.4, 35.4, 46. , 50. , 32.2, 22. ,\n",
            "       20.1, 23.2, 22.3, 24.8, 28.5, 37.3, 27.9, 23.9, 21.7, 28.6, 27.1,\n",
            "       20.3, 22.5, 29. , 24.8, 22. , 26.4, 33.1, 36.1, 28.4, 33.4, 28.2,\n",
            "       22.8, 20.3, 16.1, 22.1, 19.4, 21.6, 23.8, 16.2, 17.8, 19.8, 23.1,\n",
            "       21. , 23.8, 23.1, 20.4, 18.5, 25. , 24.6, 23. , 22.2, 19.3, 22.6,\n",
            "       19.8, 17.1, 19.4, 22.2, 20.7, 21.1, 19.5, 18.5, 20.6, 19. , 18.7,\n",
            "       32.7, 16.5, 23.9, 31.2, 17.5, 17.2, 23.1, 24.5, 26.6, 22.9, 24.1,\n",
            "       18.6, 30.1, 18.2, 20.6, 17.8, 21.7, 22.7, 22.6, 25. , 19.9, 20.8,\n",
            "       16.8, 21.9, 27.5, 21.9, 23.1, 50. , 50. , 50. , 50. , 50. , 13.8,\n",
            "       13.8, 15. , 13.9, 13.3, 13.1, 10.2, 10.4, 10.9, 11.3, 12.3,  8.8,\n",
            "        7.2, 10.5,  7.4, 10.2, 11.5, 15.1, 23.2,  9.7, 13.8, 12.7, 13.1,\n",
            "       12.5,  8.5,  5. ,  6.3,  5.6,  7.2, 12.1,  8.3,  8.5,  5. , 11.9,\n",
            "       27.9, 17.2, 27.5, 15. , 17.2, 17.9, 16.3,  7. ,  7.2,  7.5, 10.4,\n",
            "        8.8,  8.4, 16.7, 14.2, 20.8, 13.4, 11.7,  8.3, 10.2, 10.9, 11. ,\n",
            "        9.5, 14.5, 14.1, 16.1, 14.3, 11.7, 13.4,  9.6,  8.7,  8.4, 12.8,\n",
            "       10.5, 17.1, 18.4, 15.4, 10.8, 11.8, 14.9, 12.6, 14.1, 13. , 13.4,\n",
            "       15.2, 16.1, 17.8, 14.9, 14.1, 12.7, 13.5, 14.9, 20. , 16.4, 17.7,\n",
            "       19.5, 20.2, 21.4, 19.9, 19. , 19.1, 19.1, 20.1, 19.9, 19.6, 23.2,\n",
            "       29.8, 13.8, 13.3, 16.7, 12. , 14.6, 21.4, 23. , 23.7, 25. , 21.8,\n",
            "       20.6, 21.2, 19.1, 20.6, 15.2,  7. ,  8.1, 13.6, 20.1, 21.8, 24.5,\n",
            "       23.1, 19.7, 18.3, 21.2, 17.5, 16.8, 22.4, 20.6, 23.9, 22. , 11.9]), 'feature_names': ['CRIM', 'ZN', 'INDUS', 'CHAS', 'NOX', 'RM', 'AGE', 'DIS', 'RAD', 'TAX', 'PTRATIO', 'B', 'LSTAT', 'MEDV']}\n"
          ]
        }
      ]
    },
    {
      "cell_type": "code",
      "source": [
        "df.head()"
      ],
      "metadata": {
        "colab": {
          "base_uri": "https://localhost:8080/",
          "height": 206
        },
        "id": "DcWXFjZfSi0E",
        "outputId": "c6506b27-d42c-46b7-f721-622b0f98aac4"
      },
      "execution_count": 8,
      "outputs": [
        {
          "output_type": "execute_result",
          "data": {
            "text/plain": [
              "      CRIM    ZN  INDUS  CHAS    NOX     RM   AGE     DIS  RAD    TAX  \\\n",
              "0  0.00632  18.0   2.31   0.0  0.538  6.575  65.2  4.0900  1.0  296.0   \n",
              "1  0.02731   0.0   7.07   0.0  0.469  6.421  78.9  4.9671  2.0  242.0   \n",
              "2  0.02729   0.0   7.07   0.0  0.469  7.185  61.1  4.9671  2.0  242.0   \n",
              "3  0.03237   0.0   2.18   0.0  0.458  6.998  45.8  6.0622  3.0  222.0   \n",
              "4  0.06905   0.0   2.18   0.0  0.458  7.147  54.2  6.0622  3.0  222.0   \n",
              "\n",
              "   PTRATIO       B  LSTAT  MEDV  \n",
              "0     15.3  396.90   4.98  24.0  \n",
              "1     17.8  396.90   9.14  21.6  \n",
              "2     17.8  392.83   4.03  34.7  \n",
              "3     18.7  394.63   2.94  33.4  \n",
              "4     18.7  396.90   5.33  36.2  "
            ],
            "text/html": [
              "\n",
              "  <div id=\"df-2bce349b-f19e-4de9-84c9-9ed3ca1e16a2\" class=\"colab-df-container\">\n",
              "    <div>\n",
              "<style scoped>\n",
              "    .dataframe tbody tr th:only-of-type {\n",
              "        vertical-align: middle;\n",
              "    }\n",
              "\n",
              "    .dataframe tbody tr th {\n",
              "        vertical-align: top;\n",
              "    }\n",
              "\n",
              "    .dataframe thead th {\n",
              "        text-align: right;\n",
              "    }\n",
              "</style>\n",
              "<table border=\"1\" class=\"dataframe\">\n",
              "  <thead>\n",
              "    <tr style=\"text-align: right;\">\n",
              "      <th></th>\n",
              "      <th>CRIM</th>\n",
              "      <th>ZN</th>\n",
              "      <th>INDUS</th>\n",
              "      <th>CHAS</th>\n",
              "      <th>NOX</th>\n",
              "      <th>RM</th>\n",
              "      <th>AGE</th>\n",
              "      <th>DIS</th>\n",
              "      <th>RAD</th>\n",
              "      <th>TAX</th>\n",
              "      <th>PTRATIO</th>\n",
              "      <th>B</th>\n",
              "      <th>LSTAT</th>\n",
              "      <th>MEDV</th>\n",
              "    </tr>\n",
              "  </thead>\n",
              "  <tbody>\n",
              "    <tr>\n",
              "      <th>0</th>\n",
              "      <td>0.00632</td>\n",
              "      <td>18.0</td>\n",
              "      <td>2.31</td>\n",
              "      <td>0.0</td>\n",
              "      <td>0.538</td>\n",
              "      <td>6.575</td>\n",
              "      <td>65.2</td>\n",
              "      <td>4.0900</td>\n",
              "      <td>1.0</td>\n",
              "      <td>296.0</td>\n",
              "      <td>15.3</td>\n",
              "      <td>396.90</td>\n",
              "      <td>4.98</td>\n",
              "      <td>24.0</td>\n",
              "    </tr>\n",
              "    <tr>\n",
              "      <th>1</th>\n",
              "      <td>0.02731</td>\n",
              "      <td>0.0</td>\n",
              "      <td>7.07</td>\n",
              "      <td>0.0</td>\n",
              "      <td>0.469</td>\n",
              "      <td>6.421</td>\n",
              "      <td>78.9</td>\n",
              "      <td>4.9671</td>\n",
              "      <td>2.0</td>\n",
              "      <td>242.0</td>\n",
              "      <td>17.8</td>\n",
              "      <td>396.90</td>\n",
              "      <td>9.14</td>\n",
              "      <td>21.6</td>\n",
              "    </tr>\n",
              "    <tr>\n",
              "      <th>2</th>\n",
              "      <td>0.02729</td>\n",
              "      <td>0.0</td>\n",
              "      <td>7.07</td>\n",
              "      <td>0.0</td>\n",
              "      <td>0.469</td>\n",
              "      <td>7.185</td>\n",
              "      <td>61.1</td>\n",
              "      <td>4.9671</td>\n",
              "      <td>2.0</td>\n",
              "      <td>242.0</td>\n",
              "      <td>17.8</td>\n",
              "      <td>392.83</td>\n",
              "      <td>4.03</td>\n",
              "      <td>34.7</td>\n",
              "    </tr>\n",
              "    <tr>\n",
              "      <th>3</th>\n",
              "      <td>0.03237</td>\n",
              "      <td>0.0</td>\n",
              "      <td>2.18</td>\n",
              "      <td>0.0</td>\n",
              "      <td>0.458</td>\n",
              "      <td>6.998</td>\n",
              "      <td>45.8</td>\n",
              "      <td>6.0622</td>\n",
              "      <td>3.0</td>\n",
              "      <td>222.0</td>\n",
              "      <td>18.7</td>\n",
              "      <td>394.63</td>\n",
              "      <td>2.94</td>\n",
              "      <td>33.4</td>\n",
              "    </tr>\n",
              "    <tr>\n",
              "      <th>4</th>\n",
              "      <td>0.06905</td>\n",
              "      <td>0.0</td>\n",
              "      <td>2.18</td>\n",
              "      <td>0.0</td>\n",
              "      <td>0.458</td>\n",
              "      <td>7.147</td>\n",
              "      <td>54.2</td>\n",
              "      <td>6.0622</td>\n",
              "      <td>3.0</td>\n",
              "      <td>222.0</td>\n",
              "      <td>18.7</td>\n",
              "      <td>396.90</td>\n",
              "      <td>5.33</td>\n",
              "      <td>36.2</td>\n",
              "    </tr>\n",
              "  </tbody>\n",
              "</table>\n",
              "</div>\n",
              "    <div class=\"colab-df-buttons\">\n",
              "\n",
              "  <div class=\"colab-df-container\">\n",
              "    <button class=\"colab-df-convert\" onclick=\"convertToInteractive('df-2bce349b-f19e-4de9-84c9-9ed3ca1e16a2')\"\n",
              "            title=\"Convert this dataframe to an interactive table.\"\n",
              "            style=\"display:none;\">\n",
              "\n",
              "  <svg xmlns=\"http://www.w3.org/2000/svg\" height=\"24px\" viewBox=\"0 -960 960 960\">\n",
              "    <path d=\"M120-120v-720h720v720H120Zm60-500h600v-160H180v160Zm220 220h160v-160H400v160Zm0 220h160v-160H400v160ZM180-400h160v-160H180v160Zm440 0h160v-160H620v160ZM180-180h160v-160H180v160Zm440 0h160v-160H620v160Z\"/>\n",
              "  </svg>\n",
              "    </button>\n",
              "\n",
              "  <style>\n",
              "    .colab-df-container {\n",
              "      display:flex;\n",
              "      gap: 12px;\n",
              "    }\n",
              "\n",
              "    .colab-df-convert {\n",
              "      background-color: #E8F0FE;\n",
              "      border: none;\n",
              "      border-radius: 50%;\n",
              "      cursor: pointer;\n",
              "      display: none;\n",
              "      fill: #1967D2;\n",
              "      height: 32px;\n",
              "      padding: 0 0 0 0;\n",
              "      width: 32px;\n",
              "    }\n",
              "\n",
              "    .colab-df-convert:hover {\n",
              "      background-color: #E2EBFA;\n",
              "      box-shadow: 0px 1px 2px rgba(60, 64, 67, 0.3), 0px 1px 3px 1px rgba(60, 64, 67, 0.15);\n",
              "      fill: #174EA6;\n",
              "    }\n",
              "\n",
              "    .colab-df-buttons div {\n",
              "      margin-bottom: 4px;\n",
              "    }\n",
              "\n",
              "    [theme=dark] .colab-df-convert {\n",
              "      background-color: #3B4455;\n",
              "      fill: #D2E3FC;\n",
              "    }\n",
              "\n",
              "    [theme=dark] .colab-df-convert:hover {\n",
              "      background-color: #434B5C;\n",
              "      box-shadow: 0px 1px 3px 1px rgba(0, 0, 0, 0.15);\n",
              "      filter: drop-shadow(0px 1px 2px rgba(0, 0, 0, 0.3));\n",
              "      fill: #FFFFFF;\n",
              "    }\n",
              "  </style>\n",
              "\n",
              "    <script>\n",
              "      const buttonEl =\n",
              "        document.querySelector('#df-2bce349b-f19e-4de9-84c9-9ed3ca1e16a2 button.colab-df-convert');\n",
              "      buttonEl.style.display =\n",
              "        google.colab.kernel.accessAllowed ? 'block' : 'none';\n",
              "\n",
              "      async function convertToInteractive(key) {\n",
              "        const element = document.querySelector('#df-2bce349b-f19e-4de9-84c9-9ed3ca1e16a2');\n",
              "        const dataTable =\n",
              "          await google.colab.kernel.invokeFunction('convertToInteractive',\n",
              "                                                    [key], {});\n",
              "        if (!dataTable) return;\n",
              "\n",
              "        const docLinkHtml = 'Like what you see? Visit the ' +\n",
              "          '<a target=\"_blank\" href=https://colab.research.google.com/notebooks/data_table.ipynb>data table notebook</a>'\n",
              "          + ' to learn more about interactive tables.';\n",
              "        element.innerHTML = '';\n",
              "        dataTable['output_type'] = 'display_data';\n",
              "        await google.colab.output.renderOutput(dataTable, element);\n",
              "        const docLink = document.createElement('div');\n",
              "        docLink.innerHTML = docLinkHtml;\n",
              "        element.appendChild(docLink);\n",
              "      }\n",
              "    </script>\n",
              "  </div>\n",
              "\n",
              "\n",
              "<div id=\"df-71f7fa40-439e-47de-8255-5c0a7835e21b\">\n",
              "  <button class=\"colab-df-quickchart\" onclick=\"quickchart('df-71f7fa40-439e-47de-8255-5c0a7835e21b')\"\n",
              "            title=\"Suggest charts\"\n",
              "            style=\"display:none;\">\n",
              "\n",
              "<svg xmlns=\"http://www.w3.org/2000/svg\" height=\"24px\"viewBox=\"0 0 24 24\"\n",
              "     width=\"24px\">\n",
              "    <g>\n",
              "        <path d=\"M19 3H5c-1.1 0-2 .9-2 2v14c0 1.1.9 2 2 2h14c1.1 0 2-.9 2-2V5c0-1.1-.9-2-2-2zM9 17H7v-7h2v7zm4 0h-2V7h2v10zm4 0h-2v-4h2v4z\"/>\n",
              "    </g>\n",
              "</svg>\n",
              "  </button>\n",
              "\n",
              "<style>\n",
              "  .colab-df-quickchart {\n",
              "      --bg-color: #E8F0FE;\n",
              "      --fill-color: #1967D2;\n",
              "      --hover-bg-color: #E2EBFA;\n",
              "      --hover-fill-color: #174EA6;\n",
              "      --disabled-fill-color: #AAA;\n",
              "      --disabled-bg-color: #DDD;\n",
              "  }\n",
              "\n",
              "  [theme=dark] .colab-df-quickchart {\n",
              "      --bg-color: #3B4455;\n",
              "      --fill-color: #D2E3FC;\n",
              "      --hover-bg-color: #434B5C;\n",
              "      --hover-fill-color: #FFFFFF;\n",
              "      --disabled-bg-color: #3B4455;\n",
              "      --disabled-fill-color: #666;\n",
              "  }\n",
              "\n",
              "  .colab-df-quickchart {\n",
              "    background-color: var(--bg-color);\n",
              "    border: none;\n",
              "    border-radius: 50%;\n",
              "    cursor: pointer;\n",
              "    display: none;\n",
              "    fill: var(--fill-color);\n",
              "    height: 32px;\n",
              "    padding: 0;\n",
              "    width: 32px;\n",
              "  }\n",
              "\n",
              "  .colab-df-quickchart:hover {\n",
              "    background-color: var(--hover-bg-color);\n",
              "    box-shadow: 0 1px 2px rgba(60, 64, 67, 0.3), 0 1px 3px 1px rgba(60, 64, 67, 0.15);\n",
              "    fill: var(--button-hover-fill-color);\n",
              "  }\n",
              "\n",
              "  .colab-df-quickchart-complete:disabled,\n",
              "  .colab-df-quickchart-complete:disabled:hover {\n",
              "    background-color: var(--disabled-bg-color);\n",
              "    fill: var(--disabled-fill-color);\n",
              "    box-shadow: none;\n",
              "  }\n",
              "\n",
              "  .colab-df-spinner {\n",
              "    border: 2px solid var(--fill-color);\n",
              "    border-color: transparent;\n",
              "    border-bottom-color: var(--fill-color);\n",
              "    animation:\n",
              "      spin 1s steps(1) infinite;\n",
              "  }\n",
              "\n",
              "  @keyframes spin {\n",
              "    0% {\n",
              "      border-color: transparent;\n",
              "      border-bottom-color: var(--fill-color);\n",
              "      border-left-color: var(--fill-color);\n",
              "    }\n",
              "    20% {\n",
              "      border-color: transparent;\n",
              "      border-left-color: var(--fill-color);\n",
              "      border-top-color: var(--fill-color);\n",
              "    }\n",
              "    30% {\n",
              "      border-color: transparent;\n",
              "      border-left-color: var(--fill-color);\n",
              "      border-top-color: var(--fill-color);\n",
              "      border-right-color: var(--fill-color);\n",
              "    }\n",
              "    40% {\n",
              "      border-color: transparent;\n",
              "      border-right-color: var(--fill-color);\n",
              "      border-top-color: var(--fill-color);\n",
              "    }\n",
              "    60% {\n",
              "      border-color: transparent;\n",
              "      border-right-color: var(--fill-color);\n",
              "    }\n",
              "    80% {\n",
              "      border-color: transparent;\n",
              "      border-right-color: var(--fill-color);\n",
              "      border-bottom-color: var(--fill-color);\n",
              "    }\n",
              "    90% {\n",
              "      border-color: transparent;\n",
              "      border-bottom-color: var(--fill-color);\n",
              "    }\n",
              "  }\n",
              "</style>\n",
              "\n",
              "  <script>\n",
              "    async function quickchart(key) {\n",
              "      const quickchartButtonEl =\n",
              "        document.querySelector('#' + key + ' button');\n",
              "      quickchartButtonEl.disabled = true;  // To prevent multiple clicks.\n",
              "      quickchartButtonEl.classList.add('colab-df-spinner');\n",
              "      try {\n",
              "        const charts = await google.colab.kernel.invokeFunction(\n",
              "            'suggestCharts', [key], {});\n",
              "      } catch (error) {\n",
              "        console.error('Error during call to suggestCharts:', error);\n",
              "      }\n",
              "      quickchartButtonEl.classList.remove('colab-df-spinner');\n",
              "      quickchartButtonEl.classList.add('colab-df-quickchart-complete');\n",
              "    }\n",
              "    (() => {\n",
              "      let quickchartButtonEl =\n",
              "        document.querySelector('#df-71f7fa40-439e-47de-8255-5c0a7835e21b button');\n",
              "      quickchartButtonEl.style.display =\n",
              "        google.colab.kernel.accessAllowed ? 'block' : 'none';\n",
              "    })();\n",
              "  </script>\n",
              "</div>\n",
              "    </div>\n",
              "  </div>\n"
            ]
          },
          "metadata": {},
          "execution_count": 8
        }
      ]
    },
    {
      "cell_type": "code",
      "source": [
        "X = housing['data']  # Dados das características (sem a coluna 'MEDV')\n",
        "y = housing['target']  # Dados da variável alvo (somente a coluna 'MEDV')"
      ],
      "metadata": {
        "id": "irEUYuhethlx"
      },
      "execution_count": 9,
      "outputs": []
    },
    {
      "cell_type": "markdown",
      "source": [
        "# MODELING TECHINICS\n",
        "\n",
        "1. Regrassão Linear do SKLEARN\n",
        "<https://scikit-learn.org/stable/modules/generated/sklearn.linear_model.LinearRegression.html#sklearn.linear_model.LinearRegression>\n",
        "\n",
        "2. Suport Vector Regression do SKLEARN\n",
        "<https://scikit-learn.org/stable/modules/generated/sklearn.svm.SVR.html#sklearn.svm.SVR>\n",
        "\n",
        "3. Decision Tree Regression do XGBoost\n",
        "<https://xgboost.readthedocs.io/en/latest/python/python_api.html>\n",
        "\n",
        "Modeling Assumptions:\n",
        "\n",
        "--> Apenas variáveis numéricas\n"
      ],
      "metadata": {
        "id": "4HkDykqfc71v"
      }
    },
    {
      "cell_type": "markdown",
      "source": [
        "#TEST DESIGN\n",
        "\n",
        "##Dataset split:\n",
        "\n",
        "Separação de Train/Test dataset padrão com 20% de massa para teste via mmetodoSKLEARN\n",
        "\n",
        "##Métrica de avaliação do modelo:\n",
        "\n",
        "Validação das métricas para penalizar grandes erros de previsão. Utilizando o SKLEANING\n",
        "\n",
        "MSE (Mean Squared Error: é uma métrica que calcula a média de diferença entre o valor predito com o real)\n",
        "\n",
        "MEA (root mean squared error: é a medida que calcula \"a raiz quadrática média\" dos erros entre valores observados (reais) e predições (hipóteses))\n",
        "\n",
        "<https://scikit-learn.org/stable/modules/generated/sklearn.metrics.mean_squared_error.html#sklearn.metrics.mean_squared_error>"
      ],
      "metadata": {
        "id": "ksVQSZ9ttDvY"
      }
    },
    {
      "cell_type": "code",
      "source": [
        "X_train, X_teste, y_train, y_teste = train_test_split(X,y, test_size=0.2, random_state=42)"
      ],
      "metadata": {
        "id": "TYhkBXfZAccB"
      },
      "execution_count": 10,
      "outputs": []
    },
    {
      "cell_type": "markdown",
      "source": [
        "## TÉCNICA 01: REGRESSÃO LINEAR"
      ],
      "metadata": {
        "id": "7WwySWmnGwy2"
      }
    },
    {
      "cell_type": "code",
      "source": [
        "print(X_train)"
      ],
      "metadata": {
        "colab": {
          "base_uri": "https://localhost:8080/"
        },
        "id": "8-iPu2wsBj8G",
        "outputId": "4c5a85ad-c753-4db8-c52c-733c8fd0d008"
      },
      "execution_count": 11,
      "outputs": [
        {
          "output_type": "stream",
          "name": "stdout",
          "text": [
            "[[1.50234e+01 0.00000e+00 1.81000e+01 ... 2.02000e+01 3.49480e+02\n",
            "  2.49100e+01]\n",
            " [6.27390e-01 0.00000e+00 8.14000e+00 ... 2.10000e+01 3.95620e+02\n",
            "  8.47000e+00]\n",
            " [3.46600e-02 3.50000e+01 6.06000e+00 ... 1.69000e+01 3.62250e+02\n",
            "  7.83000e+00]\n",
            " ...\n",
            " [1.50100e-02 8.00000e+01 2.01000e+00 ... 1.70000e+01 3.90940e+02\n",
            "  5.99000e+00]\n",
            " [1.11604e+01 0.00000e+00 1.81000e+01 ... 2.02000e+01 1.09850e+02\n",
            "  2.32700e+01]\n",
            " [2.28760e-01 0.00000e+00 8.56000e+00 ... 2.09000e+01 7.08000e+01\n",
            "  1.06300e+01]]\n"
          ]
        }
      ]
    },
    {
      "cell_type": "code",
      "source": [
        "print(y_train)"
      ],
      "metadata": {
        "colab": {
          "base_uri": "https://localhost:8080/"
        },
        "id": "Nj_XAR7KBq9s",
        "outputId": "8f1e4d32-11f3-4373-ad85-196eb7b7604a"
      },
      "execution_count": 12,
      "outputs": [
        {
          "output_type": "stream",
          "name": "stdout",
          "text": [
            "[12.  19.9 19.4 13.4 18.2 24.6 21.1 24.7  8.7 27.5 20.7 36.2 31.6 11.7\n",
            " 39.8 13.9 21.8 23.7 17.6 24.4  8.8 19.2 25.3 20.4 23.1 37.9 15.6 45.4\n",
            " 15.7 22.6 14.5 18.7 17.8 16.1 20.6 31.6 29.1 15.6 17.5 22.5 19.4 19.3\n",
            "  8.5 20.6 17.  17.1 14.5 50.  14.3 12.6 28.7 21.2 19.3 23.1 19.1 25.\n",
            " 33.4  5.  29.6 18.7 21.7 23.1 22.8 21.  48.8 14.6 16.6 27.1 20.1 19.8\n",
            " 21.  41.3 23.2 20.4 18.5 29.4 36.4 24.4 11.8 13.8 12.3 17.8 33.1 26.7\n",
            " 13.4 14.4 50.  22.  19.9 23.8 17.5 12.7  5.6 31.1 26.2 19.4 16.7 13.8\n",
            " 22.9 15.3 27.5 36.1 22.9 24.5 25.  50.  34.9 31.7 24.1 22.1 14.1 42.8\n",
            " 19.3 32.2 26.4 21.8 21.7  8.3 46.7 43.1 31.5 10.5 16.7 20.  33.3 17.8\n",
            " 50.  20.5 23.2 13.1 19.6 22.8 28.7 30.7 22.9 21.9 23.9 32.7 24.3 21.5\n",
            " 24.6  8.5 26.4 23.1 15.   8.8 19.3 23.9 24.7 19.8 23.8 13.3 29.  27.1\n",
            " 34.6 13.3 15.6 12.5 14.6 11.  24.8 17.3  8.1 21.4 15.6 23.3 32.  38.7\n",
            " 30.1 20.5 32.5 42.3 24.3 20.6 22.  18.2 15.   6.3 20.1 21.4 28.4 30.1\n",
            " 20.8 23.  14.3 11.7 37.3 17.1 10.4 23.  22.7 20.3 21.7 50.   8.4 18.8\n",
            " 37.2 16.1 16.5 22.2 20.6 13.5 48.3 23.8 22.7 17.4 30.3 36.  41.7 18.3\n",
            " 22.  18.6 44.8 11.9 18.7 16.2 22.   7.2 20.4 13.8 13.  18.4 23.1 21.2\n",
            " 23.1 23.5 50.  26.6 22.2 50.   8.3 23.3 21.7 18.9 18.4 17.4 13.4 12.1\n",
            " 26.6 21.7 28.4 20.5 22.  13.9 11.3 29.9 26.6 10.5 23.2 24.4 46.  21.9\n",
            "  7.5 36.2 44.  17.8 27.5 37.6 14.1 28.1 10.2 19.1 43.8 27.9 25.  16.\n",
            " 16.6 13.2 50.  22.2 32.9 15.2 14.8 13.8 24.3 33.8 22.3 50.   9.5 13.3\n",
            " 22.2 18.1 18.  25.  16.5 23.  20.1 33.  24.8 18.2 13.1 34.9 10.2 19.9\n",
            " 27.9 23.3 35.1 12.8 22.  18.5 25.1 22.5 22.4 28.6 19.5 24.8 24.5 21.4\n",
            " 33.1 22.9 20.7 24.1 50.  24.7 28.7  7.2 37.  20.3 30.1 19.5 23.4 11.5\n",
            " 21.6 14.9 15.2 19.4  8.4 28.  22.6 13.5 14.5 31.  10.9 21.9 22.  19.\n",
            " 21.4 25.  17.5 36.5 20.1 20.4 16.2 23.6  7.4 35.2 50.  19.3 21.2 15.6\n",
            " 33.4 19.1 21.  23.7 18.9 16.8 19.7 17.7 22.6 11.8 34.9 20.6 20.2 32.\n",
            " 22.3 23.3 14.4 31.2 24.  29.6 19.6 21.6 20.  27.  33.2 15.4 30.5  7.2\n",
            " 23.9 16.3 23.9 50.  22.8 15.4 19.2 19.6 22.6 33.2 50.  22.2 14.9 19.8\n",
            " 23.7 19.  20.3 11.9 13.6 29.8 21.7 19.5 21.1 24.5 13.4 18.6]\n"
          ]
        }
      ]
    },
    {
      "cell_type": "code",
      "source": [
        "regLinear = LinearRegression().fit(X_train,y_train)"
      ],
      "metadata": {
        "id": "5_T9O30sB33R"
      },
      "execution_count": 13,
      "outputs": []
    },
    {
      "cell_type": "markdown",
      "source": [
        "Predição de y via modelo de regresão linear com a massa de teste:"
      ],
      "metadata": {
        "id": "5GAurzGOEVYC"
      }
    },
    {
      "cell_type": "code",
      "source": [
        "yLinear = regLinear.predict(X_teste)"
      ],
      "metadata": {
        "id": "bzMjDojBDRYR"
      },
      "execution_count": 14,
      "outputs": []
    },
    {
      "cell_type": "code",
      "source": [
        "print(yLinear)"
      ],
      "metadata": {
        "colab": {
          "base_uri": "https://localhost:8080/"
        },
        "id": "KDTNFO5PEAic",
        "outputId": "3eec72e3-fba9-446d-f79a-17cbed254018"
      },
      "execution_count": 15,
      "outputs": [
        {
          "output_type": "stream",
          "name": "stdout",
          "text": [
            "[28.99672362 36.02556534 14.81694405 25.03197915 18.76987992 23.25442929\n",
            " 17.66253818 14.34119    23.01320703 20.63245597 24.90850512 18.63883645\n",
            " -6.08842184 21.75834668 19.23922576 26.19319733 20.64773313  5.79472718\n",
            " 40.50033966 17.61289074 27.24909479 30.06625441 11.34179277 24.16077616\n",
            " 17.86058499 15.83609765 22.78148106 14.57704449 22.43626052 19.19631835\n",
            " 22.43383455 25.21979081 25.93909562 17.70162434 16.76911711 16.95125411\n",
            " 31.23340153 20.13246729 23.76579011 24.6322925  13.94204955 32.25576301\n",
            " 42.67251161 17.32745046 27.27618614 16.99310991 14.07009109 25.90341861\n",
            " 20.29485982 29.95339638 21.28860173 34.34451856 16.04739105 26.22562412\n",
            " 39.53939798 22.57950697 18.84531367 32.72531661 25.0673037  12.88628956\n",
            " 22.68221908 30.48287757 31.52626806 15.90148607 20.22094826 16.71089812\n",
            " 20.52384893 25.96356264 30.61607978 11.59783023 20.51232627 27.48111878\n",
            " 11.01962332 15.68096344 23.79316251  6.19929359 21.6039073  41.41377225\n",
            " 18.76548695  8.87931901 20.83076916 13.25620627 20.73963699  9.36482222\n",
            " 23.22444271 31.9155003  19.10228271 25.51579303 29.04256769 20.14358566\n",
            " 25.5859787   5.70159447 20.09474756 14.95069156 12.50395648 20.72635294\n",
            " 24.73957161 -0.164237   13.68486682 16.18359697 22.27621999 24.47902364]\n"
          ]
        }
      ]
    },
    {
      "cell_type": "markdown",
      "source": [
        "Comparação do y teste com o que o modelo analisou que é o y Linear. Vamos compará-los com o MSE:"
      ],
      "metadata": {
        "id": "Yl6VxTccFJU-"
      }
    },
    {
      "cell_type": "code",
      "source": [
        "MSELinear = mean_squared_error(y_teste, yLinear)"
      ],
      "metadata": {
        "id": "bkMXqf85EKO8"
      },
      "execution_count": 30,
      "outputs": []
    },
    {
      "cell_type": "code",
      "source": [
        "print(MSELinear)"
      ],
      "metadata": {
        "colab": {
          "base_uri": "https://localhost:8080/"
        },
        "id": "eE9YUScXFnI8",
        "outputId": "36c40782-6c37-4fe4-a053-4a11e9c4c697"
      },
      "execution_count": 31,
      "outputs": [
        {
          "output_type": "stream",
          "name": "stdout",
          "text": [
            "24.291119474973485\n"
          ]
        }
      ]
    },
    {
      "cell_type": "markdown",
      "source": [
        "Aqui observamos que na média os erros cometidos por esse modelo doram de R$ 4.900 reais:"
      ],
      "metadata": {
        "id": "rcY96-q-GHRz"
      }
    },
    {
      "cell_type": "code",
      "source": [
        "print(\"RMSE:\", np.sqrt(MSELinear))"
      ],
      "metadata": {
        "colab": {
          "base_uri": "https://localhost:8080/"
        },
        "id": "CWsUUI99FqDB",
        "outputId": "12aa54b5-b4b3-41b5-f127-aa37e6baf794"
      },
      "execution_count": 32,
      "outputs": [
        {
          "output_type": "stream",
          "name": "stdout",
          "text": [
            "RMSE: 4.928602182665333\n"
          ]
        }
      ]
    },
    {
      "cell_type": "code",
      "source": [
        "print(\"MSE Linear:\", MSELinear)\n",
        "print(\"RMSE Linear:\", np.sqrt(MSELinear))"
      ],
      "metadata": {
        "colab": {
          "base_uri": "https://localhost:8080/"
        },
        "id": "_lnT2MLuG8BN",
        "outputId": "1e93a1ce-1e0a-439d-bcb8-2a81df6f738a"
      },
      "execution_count": 33,
      "outputs": [
        {
          "output_type": "stream",
          "name": "stdout",
          "text": [
            "MSE Linear: 24.291119474973485\n",
            "RMSE Linear: 4.928602182665333\n"
          ]
        }
      ]
    },
    {
      "cell_type": "markdown",
      "source": [
        "## TÉCNICA 02: SRV (support vector regression)"
      ],
      "metadata": {
        "id": "TyPYp1wbHNBb"
      }
    },
    {
      "cell_type": "code",
      "source": [
        "regSVR = SVR().fit(X_train, y_train)"
      ],
      "metadata": {
        "id": "SdjGBXO0Hcgd"
      },
      "execution_count": 27,
      "outputs": []
    },
    {
      "cell_type": "markdown",
      "source": [
        "Agora usamos o modelo trainado para predizer o preço das casas da nossa massa de teste:"
      ],
      "metadata": {
        "id": "jFVvMe4TIXKL"
      }
    },
    {
      "cell_type": "code",
      "source": [
        "ySVR = regSVR.predict(X_teste)"
      ],
      "metadata": {
        "id": "GQhsDF_1ISxh"
      },
      "execution_count": 29,
      "outputs": []
    },
    {
      "cell_type": "code",
      "source": [
        "MSESVR = mean_squared_error(y_teste, ySVR)"
      ],
      "metadata": {
        "id": "_4U7349XIuq1"
      },
      "execution_count": 34,
      "outputs": []
    },
    {
      "cell_type": "code",
      "source": [
        "print(\"MSE SVR:\", MSESVR)\n",
        "print(\"RMSE SVR:\", np.sqrt(MSESVR))"
      ],
      "metadata": {
        "colab": {
          "base_uri": "https://localhost:8080/"
        },
        "id": "n5KVEvLWJkiI",
        "outputId": "cad37415-e8cb-4b23-f3c3-9081f3abf48c"
      },
      "execution_count": 35,
      "outputs": [
        {
          "output_type": "stream",
          "name": "stdout",
          "text": [
            "MSE SVR: 52.8383657679667\n",
            "RMSE SVR: 7.269000327965785\n"
          ]
        }
      ]
    },
    {
      "cell_type": "markdown",
      "source": [
        "## TÉCNICA 03: Decision Tree Regression (XGBoost)"
      ],
      "metadata": {
        "id": "r4Zn-aW-KzNU"
      }
    },
    {
      "cell_type": "code",
      "source": [
        "regXGB = XGBRegressor().fit(X_train, y_train)"
      ],
      "metadata": {
        "id": "GKximwx9LysC"
      },
      "execution_count": 38,
      "outputs": []
    },
    {
      "cell_type": "code",
      "source": [
        "yXGB = regXGB.predict(X_teste)"
      ],
      "metadata": {
        "id": "j5uOQSfqMIpV"
      },
      "execution_count": 39,
      "outputs": []
    },
    {
      "cell_type": "code",
      "source": [
        "MSEXGB = mean_squared_error(y_teste, yXGB)"
      ],
      "metadata": {
        "id": "A14N4Vy_MSbt"
      },
      "execution_count": 40,
      "outputs": []
    },
    {
      "cell_type": "code",
      "source": [
        "print(\"MSE XGB:\", MSEXGB)\n",
        "print(\"RMSE XGB:\", np.sqrt(MSEXGB))"
      ],
      "metadata": {
        "colab": {
          "base_uri": "https://localhost:8080/"
        },
        "id": "7y8THkxyMdJJ",
        "outputId": "346a9922-488e-4e29-df5d-41561fdef1a7"
      },
      "execution_count": 41,
      "outputs": [
        {
          "output_type": "stream",
          "name": "stdout",
          "text": [
            "MSE XGB: 6.909231565384943\n",
            "RMSE XGB: 2.62854171840299\n"
          ]
        }
      ]
    },
    {
      "cell_type": "markdown",
      "source": [
        "#OTIMIZAÇÂO DE HIPERPARAMETROS\n",
        "\n",
        "Agora que vimos que o modelo que oferece o menor erro é o XGBoost, vamos aprofundar a análise dos hiperparâmetros para verificar se podemos melhorar ainda mais o modelo.\n",
        "\n",
        "Vamos utilizar o método GridSearchCV do SKLEARN\n",
        "<https://scikit-learn.org/stable/modules/generated/sklearn.model_selection.GridSearchCV.html#sklearn.model_selection.GridSearchCV>"
      ],
      "metadata": {
        "id": "veXsIoQfNtk2"
      }
    },
    {
      "cell_type": "code",
      "source": [
        "regXGB.get_params().keys()"
      ],
      "metadata": {
        "colab": {
          "base_uri": "https://localhost:8080/"
        },
        "id": "SJB4ZChNN8Nv",
        "outputId": "950830b7-09c5-4842-a56c-69ad282c28d7"
      },
      "execution_count": 43,
      "outputs": [
        {
          "output_type": "execute_result",
          "data": {
            "text/plain": [
              "dict_keys(['objective', 'base_score', 'booster', 'callbacks', 'colsample_bylevel', 'colsample_bynode', 'colsample_bytree', 'device', 'early_stopping_rounds', 'enable_categorical', 'eval_metric', 'feature_types', 'gamma', 'grow_policy', 'importance_type', 'interaction_constraints', 'learning_rate', 'max_bin', 'max_cat_threshold', 'max_cat_to_onehot', 'max_delta_step', 'max_depth', 'max_leaves', 'min_child_weight', 'missing', 'monotone_constraints', 'multi_strategy', 'n_estimators', 'n_jobs', 'num_parallel_tree', 'random_state', 'reg_alpha', 'reg_lambda', 'sampling_method', 'scale_pos_weight', 'subsample', 'tree_method', 'validate_parameters', 'verbosity'])"
            ]
          },
          "metadata": {},
          "execution_count": 43
        }
      ]
    },
    {
      "cell_type": "code",
      "source": [
        "parameters = {\n",
        "    \"max_depth\": [5, 6, 7],\n",
        "    \"learning_rate\": [0.1, 0.2, 0.3],\n",
        "    \"objective\": ['reg:squarederror'],\n",
        "    \"booster\": ['gbtree'],\n",
        "    \"n_jobs\": [5],\n",
        "    \"gamma\": [0, 1],\n",
        "    \"min_child_weight\": [1, 3],\n",
        "    \"max_delta_step\": [0, 1],\n",
        "    \"subsample\": [0.5, 1]\n",
        "}"
      ],
      "metadata": {
        "id": "5wLm807XQCTS"
      },
      "execution_count": 44,
      "outputs": []
    },
    {
      "cell_type": "markdown",
      "source": [
        "Aqui estamos usando o refit que é qual é a metrica que eu quero utilizar para determinar o melhor modelo. Vamos utilizar o verbose para ter uma descrição passo a passo do que a função está executando."
      ],
      "metadata": {
        "id": "YQoBcR5dUYox"
      }
    },
    {
      "cell_type": "code",
      "source": [
        "xgbGrid = GridSearchCV(XGBRegressor(), parameters, refit= 'neg_mean_squared_error', verbose=True)"
      ],
      "metadata": {
        "id": "DD8IW_HaToz-"
      },
      "execution_count": 47,
      "outputs": []
    },
    {
      "cell_type": "code",
      "source": [
        "xgbGridModel = xgbGrid.fit(X_train, y_train)"
      ],
      "metadata": {
        "colab": {
          "base_uri": "https://localhost:8080/"
        },
        "id": "j-5E2YCeU_yP",
        "outputId": "15210173-46af-4149-a83c-cb0976bcf7cb"
      },
      "execution_count": 48,
      "outputs": [
        {
          "output_type": "stream",
          "name": "stdout",
          "text": [
            "Fitting 5 folds for each of 144 candidates, totalling 720 fits\n"
          ]
        }
      ]
    },
    {
      "cell_type": "markdown",
      "source": [
        "Com a função best params, conseguimos ver qual foi a melhor combinação dos parâmetro que definimos:"
      ],
      "metadata": {
        "id": "pxhbpxVUjJSQ"
      }
    },
    {
      "cell_type": "code",
      "source": [
        "xgbGridModel.best_params_"
      ],
      "metadata": {
        "colab": {
          "base_uri": "https://localhost:8080/"
        },
        "id": "BhHStSvajB3j",
        "outputId": "20584a28-4be9-4200-8642-31c5641d9cee"
      },
      "execution_count": 49,
      "outputs": [
        {
          "output_type": "execute_result",
          "data": {
            "text/plain": [
              "{'booster': 'gbtree',\n",
              " 'gamma': 0,\n",
              " 'learning_rate': 0.2,\n",
              " 'max_delta_step': 0,\n",
              " 'max_depth': 5,\n",
              " 'min_child_weight': 1,\n",
              " 'n_jobs': 5,\n",
              " 'objective': 'reg:squarederror',\n",
              " 'subsample': 0.5}"
            ]
          },
          "metadata": {},
          "execution_count": 49
        }
      ]
    },
    {
      "cell_type": "code",
      "source": [
        "yGrid = xgbGridModel.predict(X_teste)"
      ],
      "metadata": {
        "id": "bhejuHkjjfie"
      },
      "execution_count": 51,
      "outputs": []
    },
    {
      "cell_type": "code",
      "source": [
        "MSEGrid = mean_squared_error(y_teste, yGrid)"
      ],
      "metadata": {
        "id": "tpb8zpwIjpuz"
      },
      "execution_count": 52,
      "outputs": []
    },
    {
      "cell_type": "code",
      "source": [
        "print('MSE XGB Grid:', MSEGrid)\n",
        "print('RMSE XGB Grid:', np.sqrt(MSEGrid))"
      ],
      "metadata": {
        "colab": {
          "base_uri": "https://localhost:8080/"
        },
        "id": "Eun1MDUMj0I1",
        "outputId": "9cd712e8-e811-4c5c-f15b-488ce25f0d95"
      },
      "execution_count": 53,
      "outputs": [
        {
          "output_type": "stream",
          "name": "stdout",
          "text": [
            "MSE XGB Grid: 8.2975112347883\n",
            "RMSE XGB Grid: 2.8805400942858443\n"
          ]
        }
      ]
    }
  ]
}